{
 "cells": [
  {
   "cell_type": "code",
   "execution_count": 14,
   "metadata": {
    "collapsed": false
   },
   "outputs": [
    {
     "name": "stdout",
     "output_type": "stream",
     "text": [
      "Populating the interactive namespace from numpy and matplotlib\n"
     ]
    },
    {
     "name": "stderr",
     "output_type": "stream",
     "text": [
      "WARNING: pylab import has clobbered these variables: ['random']\n",
      "`%matplotlib` prevents importing * from pylab and numpy\n"
     ]
    }
   ],
   "source": [
    "import os \n",
    "import getpass\n",
    "import random\n",
    "\n",
    "import pickle\n",
    "import numpy as np\n",
    "import pandas as pd\n",
    "from scipy import stats\n",
    "\n",
    "from sklearn import cross_validation, preprocessing\n",
    "from sklearn.externals import joblib\n",
    "from sklearn import pipeline\n",
    "from sklearn import linear_model\n",
    "from sklearn import ensemble\n",
    "from sklearn import metrics\n",
    "\n",
    "%pylab inline"
   ]
  },
  {
   "cell_type": "markdown",
   "metadata": {},
   "source": [
    "### Load data"
   ]
  },
  {
   "cell_type": "markdown",
   "metadata": {},
   "source": [
    "#### Kaggle based data"
   ]
  },
  {
   "cell_type": "markdown",
   "metadata": {},
   "source": [
    "https://www.kaggle.com/petrkajzar/wikiskripta-globalstats/downloads/WikiSkripta.csv/2"
   ]
  },
  {
   "cell_type": "code",
   "execution_count": 96,
   "metadata": {
    "collapsed": false
   },
   "outputs": [
    {
     "data": {
      "text/html": [
       "<div>\n",
       "<table border=\"1\" class=\"dataframe\">\n",
       "  <thead>\n",
       "    <tr style=\"text-align: right;\">\n",
       "      <th></th>\n",
       "      <th>total</th>\n",
       "      <th>good</th>\n",
       "      <th>views</th>\n",
       "      <th>edits</th>\n",
       "      <th>users</th>\n",
       "      <th>admins</th>\n",
       "      <th>images</th>\n",
       "      <th>activeusers</th>\n",
       "      <th>valid_checked</th>\n",
       "      <th>checked</th>\n",
       "    </tr>\n",
       "  </thead>\n",
       "  <tbody>\n",
       "    <tr>\n",
       "      <th>0</th>\n",
       "      <td>697</td>\n",
       "      <td>198</td>\n",
       "      <td>121769</td>\n",
       "      <td>4383</td>\n",
       "      <td>143</td>\n",
       "      <td>6</td>\n",
       "      <td>113</td>\n",
       "      <td>NaN</td>\n",
       "      <td>NaN</td>\n",
       "      <td>NaN</td>\n",
       "    </tr>\n",
       "    <tr>\n",
       "      <th>1</th>\n",
       "      <td>707</td>\n",
       "      <td>203</td>\n",
       "      <td>122457</td>\n",
       "      <td>4412</td>\n",
       "      <td>143</td>\n",
       "      <td>6</td>\n",
       "      <td>115</td>\n",
       "      <td>NaN</td>\n",
       "      <td>NaN</td>\n",
       "      <td>NaN</td>\n",
       "    </tr>\n",
       "    <tr>\n",
       "      <th>2</th>\n",
       "      <td>729</td>\n",
       "      <td>203</td>\n",
       "      <td>123673</td>\n",
       "      <td>4468</td>\n",
       "      <td>143</td>\n",
       "      <td>6</td>\n",
       "      <td>133</td>\n",
       "      <td>NaN</td>\n",
       "      <td>NaN</td>\n",
       "      <td>NaN</td>\n",
       "    </tr>\n",
       "    <tr>\n",
       "      <th>3</th>\n",
       "      <td>789</td>\n",
       "      <td>205</td>\n",
       "      <td>125181</td>\n",
       "      <td>4590</td>\n",
       "      <td>143</td>\n",
       "      <td>6</td>\n",
       "      <td>188</td>\n",
       "      <td>NaN</td>\n",
       "      <td>NaN</td>\n",
       "      <td>NaN</td>\n",
       "    </tr>\n",
       "    <tr>\n",
       "      <th>4</th>\n",
       "      <td>791</td>\n",
       "      <td>205</td>\n",
       "      <td>126063</td>\n",
       "      <td>4596</td>\n",
       "      <td>146</td>\n",
       "      <td>6</td>\n",
       "      <td>188</td>\n",
       "      <td>NaN</td>\n",
       "      <td>NaN</td>\n",
       "      <td>NaN</td>\n",
       "    </tr>\n",
       "  </tbody>\n",
       "</table>\n",
       "</div>"
      ],
      "text/plain": [
       "   total  good   views  edits  users  admins  images  activeusers  \\\n",
       "0    697   198  121769   4383    143       6     113          NaN   \n",
       "1    707   203  122457   4412    143       6     115          NaN   \n",
       "2    729   203  123673   4468    143       6     133          NaN   \n",
       "3    789   205  125181   4590    143       6     188          NaN   \n",
       "4    791   205  126063   4596    146       6     188          NaN   \n",
       "\n",
       "   valid_checked  checked  \n",
       "0            NaN      NaN  \n",
       "1            NaN      NaN  \n",
       "2            NaN      NaN  \n",
       "3            NaN      NaN  \n",
       "4            NaN      NaN  "
      ]
     },
     "execution_count": 96,
     "metadata": {},
     "output_type": "execute_result"
    }
   ],
   "source": [
    "data = pd.read_csv('/data/sazulay/test_out/WikiSkripta.csv')\n",
    "del data['date']\n",
    "data.head()"
   ]
  },
  {
   "cell_type": "code",
   "execution_count": 97,
   "metadata": {
    "collapsed": false
   },
   "outputs": [
    {
     "data": {
      "text/html": [
       "<div>\n",
       "<table border=\"1\" class=\"dataframe\">\n",
       "  <thead>\n",
       "    <tr style=\"text-align: right;\">\n",
       "      <th></th>\n",
       "      <th>total</th>\n",
       "      <th>good</th>\n",
       "      <th>views</th>\n",
       "      <th>edits</th>\n",
       "      <th>users</th>\n",
       "      <th>admins</th>\n",
       "      <th>images</th>\n",
       "      <th>activeusers</th>\n",
       "      <th>valid_checked</th>\n",
       "      <th>checked</th>\n",
       "    </tr>\n",
       "  </thead>\n",
       "  <tbody>\n",
       "    <tr>\n",
       "      <th>count</th>\n",
       "      <td>3359.000000</td>\n",
       "      <td>3359.000000</td>\n",
       "      <td>3.359000e+03</td>\n",
       "      <td>3359.000000</td>\n",
       "      <td>3359.000000</td>\n",
       "      <td>3359.000000</td>\n",
       "      <td>3359.000000</td>\n",
       "      <td>2707.000000</td>\n",
       "      <td>2561.000000</td>\n",
       "      <td>2561.000000</td>\n",
       "    </tr>\n",
       "    <tr>\n",
       "      <th>mean</th>\n",
       "      <td>41098.216433</td>\n",
       "      <td>6389.111938</td>\n",
       "      <td>9.317807e+07</td>\n",
       "      <td>234300.493302</td>\n",
       "      <td>8096.426615</td>\n",
       "      <td>48.239059</td>\n",
       "      <td>3674.381364</td>\n",
       "      <td>89.762837</td>\n",
       "      <td>484.208122</td>\n",
       "      <td>847.558376</td>\n",
       "    </tr>\n",
       "    <tr>\n",
       "      <th>std</th>\n",
       "      <td>21214.288790</td>\n",
       "      <td>2705.640776</td>\n",
       "      <td>7.986733e+07</td>\n",
       "      <td>126742.380277</td>\n",
       "      <td>5279.054449</td>\n",
       "      <td>26.210623</td>\n",
       "      <td>1735.428287</td>\n",
       "      <td>48.784016</td>\n",
       "      <td>193.288495</td>\n",
       "      <td>126.028995</td>\n",
       "    </tr>\n",
       "    <tr>\n",
       "      <th>min</th>\n",
       "      <td>697.000000</td>\n",
       "      <td>198.000000</td>\n",
       "      <td>1.217690e+05</td>\n",
       "      <td>4383.000000</td>\n",
       "      <td>143.000000</td>\n",
       "      <td>6.000000</td>\n",
       "      <td>113.000000</td>\n",
       "      <td>27.000000</td>\n",
       "      <td>74.000000</td>\n",
       "      <td>489.000000</td>\n",
       "    </tr>\n",
       "    <tr>\n",
       "      <th>25%</th>\n",
       "      <td>24065.500000</td>\n",
       "      <td>4718.500000</td>\n",
       "      <td>1.301702e+07</td>\n",
       "      <td>142115.000000</td>\n",
       "      <td>3270.500000</td>\n",
       "      <td>22.000000</td>\n",
       "      <td>1987.000000</td>\n",
       "      <td>49.000000</td>\n",
       "      <td>265.000000</td>\n",
       "      <td>788.000000</td>\n",
       "    </tr>\n",
       "    <tr>\n",
       "      <th>50%</th>\n",
       "      <td>45437.000000</td>\n",
       "      <td>7302.000000</td>\n",
       "      <td>7.607001e+07</td>\n",
       "      <td>247286.000000</td>\n",
       "      <td>8379.000000</td>\n",
       "      <td>52.000000</td>\n",
       "      <td>4342.000000</td>\n",
       "      <td>74.000000</td>\n",
       "      <td>582.000000</td>\n",
       "      <td>886.000000</td>\n",
       "    </tr>\n",
       "    <tr>\n",
       "      <th>75%</th>\n",
       "      <td>58283.500000</td>\n",
       "      <td>8599.500000</td>\n",
       "      <td>1.682811e+08</td>\n",
       "      <td>347509.000000</td>\n",
       "      <td>11030.500000</td>\n",
       "      <td>67.000000</td>\n",
       "      <td>5120.500000</td>\n",
       "      <td>116.000000</td>\n",
       "      <td>640.000000</td>\n",
       "      <td>918.000000</td>\n",
       "    </tr>\n",
       "    <tr>\n",
       "      <th>max</th>\n",
       "      <td>69510.000000</td>\n",
       "      <td>9473.000000</td>\n",
       "      <td>2.383516e+08</td>\n",
       "      <td>413487.000000</td>\n",
       "      <td>16252.000000</td>\n",
       "      <td>90.000000</td>\n",
       "      <td>5812.000000</td>\n",
       "      <td>259.000000</td>\n",
       "      <td>763.000000</td>\n",
       "      <td>1100.000000</td>\n",
       "    </tr>\n",
       "  </tbody>\n",
       "</table>\n",
       "</div>"
      ],
      "text/plain": [
       "              total         good         views          edits         users  \\\n",
       "count   3359.000000  3359.000000  3.359000e+03    3359.000000   3359.000000   \n",
       "mean   41098.216433  6389.111938  9.317807e+07  234300.493302   8096.426615   \n",
       "std    21214.288790  2705.640776  7.986733e+07  126742.380277   5279.054449   \n",
       "min      697.000000   198.000000  1.217690e+05    4383.000000    143.000000   \n",
       "25%    24065.500000  4718.500000  1.301702e+07  142115.000000   3270.500000   \n",
       "50%    45437.000000  7302.000000  7.607001e+07  247286.000000   8379.000000   \n",
       "75%    58283.500000  8599.500000  1.682811e+08  347509.000000  11030.500000   \n",
       "max    69510.000000  9473.000000  2.383516e+08  413487.000000  16252.000000   \n",
       "\n",
       "            admins       images  activeusers  valid_checked      checked  \n",
       "count  3359.000000  3359.000000  2707.000000    2561.000000  2561.000000  \n",
       "mean     48.239059  3674.381364    89.762837     484.208122   847.558376  \n",
       "std      26.210623  1735.428287    48.784016     193.288495   126.028995  \n",
       "min       6.000000   113.000000    27.000000      74.000000   489.000000  \n",
       "25%      22.000000  1987.000000    49.000000     265.000000   788.000000  \n",
       "50%      52.000000  4342.000000    74.000000     582.000000   886.000000  \n",
       "75%      67.000000  5120.500000   116.000000     640.000000   918.000000  \n",
       "max      90.000000  5812.000000   259.000000     763.000000  1100.000000  "
      ]
     },
     "execution_count": 97,
     "metadata": {},
     "output_type": "execute_result"
    }
   ],
   "source": [
    "data.describe()"
   ]
  },
  {
   "cell_type": "markdown",
   "metadata": {},
   "source": [
    "#### Mean impute data"
   ]
  },
  {
   "cell_type": "code",
   "execution_count": 98,
   "metadata": {
    "collapsed": true
   },
   "outputs": [],
   "source": [
    "imp = preprocessing.imputation.Imputer()"
   ]
  },
  {
   "cell_type": "code",
   "execution_count": 99,
   "metadata": {
    "collapsed": false
   },
   "outputs": [
    {
     "data": {
      "text/plain": [
       "Imputer(axis=0, copy=True, missing_values='NaN', strategy='mean', verbose=0)"
      ]
     },
     "execution_count": 99,
     "metadata": {},
     "output_type": "execute_result"
    }
   ],
   "source": [
    "imp.fit(data)"
   ]
  },
  {
   "cell_type": "code",
   "execution_count": 100,
   "metadata": {
    "collapsed": true
   },
   "outputs": [],
   "source": [
    "data_tr = pd.DataFrame(imp.transform(data), columns=data.columns)"
   ]
  },
  {
   "cell_type": "code",
   "execution_count": 101,
   "metadata": {
    "collapsed": false
   },
   "outputs": [
    {
     "data": {
      "text/html": [
       "<div>\n",
       "<table border=\"1\" class=\"dataframe\">\n",
       "  <thead>\n",
       "    <tr style=\"text-align: right;\">\n",
       "      <th></th>\n",
       "      <th>total</th>\n",
       "      <th>good</th>\n",
       "      <th>views</th>\n",
       "      <th>edits</th>\n",
       "      <th>users</th>\n",
       "      <th>admins</th>\n",
       "      <th>images</th>\n",
       "      <th>activeusers</th>\n",
       "      <th>valid_checked</th>\n",
       "      <th>checked</th>\n",
       "    </tr>\n",
       "  </thead>\n",
       "  <tbody>\n",
       "    <tr>\n",
       "      <th>total</th>\n",
       "      <td>1.000000</td>\n",
       "      <td>0.985984</td>\n",
       "      <td>0.931635</td>\n",
       "      <td>0.997832</td>\n",
       "      <td>0.973633</td>\n",
       "      <td>0.983278</td>\n",
       "      <td>0.983553</td>\n",
       "      <td>-0.411842</td>\n",
       "      <td>-0.670468</td>\n",
       "      <td>0.939049</td>\n",
       "    </tr>\n",
       "    <tr>\n",
       "      <th>good</th>\n",
       "      <td>0.985984</td>\n",
       "      <td>1.000000</td>\n",
       "      <td>0.863017</td>\n",
       "      <td>0.979969</td>\n",
       "      <td>0.924541</td>\n",
       "      <td>0.942922</td>\n",
       "      <td>0.972625</td>\n",
       "      <td>-0.397565</td>\n",
       "      <td>-0.599263</td>\n",
       "      <td>0.964899</td>\n",
       "    </tr>\n",
       "    <tr>\n",
       "      <th>views</th>\n",
       "      <td>0.931635</td>\n",
       "      <td>0.863017</td>\n",
       "      <td>1.000000</td>\n",
       "      <td>0.942697</td>\n",
       "      <td>0.976244</td>\n",
       "      <td>0.975131</td>\n",
       "      <td>0.915717</td>\n",
       "      <td>-0.438463</td>\n",
       "      <td>-0.701915</td>\n",
       "      <td>0.911537</td>\n",
       "    </tr>\n",
       "    <tr>\n",
       "      <th>edits</th>\n",
       "      <td>0.997832</td>\n",
       "      <td>0.979969</td>\n",
       "      <td>0.942697</td>\n",
       "      <td>1.000000</td>\n",
       "      <td>0.974565</td>\n",
       "      <td>0.985414</td>\n",
       "      <td>0.976092</td>\n",
       "      <td>-0.413038</td>\n",
       "      <td>-0.671794</td>\n",
       "      <td>0.931735</td>\n",
       "    </tr>\n",
       "    <tr>\n",
       "      <th>users</th>\n",
       "      <td>0.973633</td>\n",
       "      <td>0.924541</td>\n",
       "      <td>0.976244</td>\n",
       "      <td>0.974565</td>\n",
       "      <td>1.000000</td>\n",
       "      <td>0.992308</td>\n",
       "      <td>0.951385</td>\n",
       "      <td>-0.423358</td>\n",
       "      <td>-0.743031</td>\n",
       "      <td>0.884775</td>\n",
       "    </tr>\n",
       "    <tr>\n",
       "      <th>admins</th>\n",
       "      <td>0.983278</td>\n",
       "      <td>0.942922</td>\n",
       "      <td>0.975131</td>\n",
       "      <td>0.985414</td>\n",
       "      <td>0.992308</td>\n",
       "      <td>1.000000</td>\n",
       "      <td>0.967750</td>\n",
       "      <td>-0.424996</td>\n",
       "      <td>-0.686979</td>\n",
       "      <td>0.924070</td>\n",
       "    </tr>\n",
       "    <tr>\n",
       "      <th>images</th>\n",
       "      <td>0.983553</td>\n",
       "      <td>0.972625</td>\n",
       "      <td>0.915717</td>\n",
       "      <td>0.976092</td>\n",
       "      <td>0.951385</td>\n",
       "      <td>0.967750</td>\n",
       "      <td>1.000000</td>\n",
       "      <td>-0.392061</td>\n",
       "      <td>-0.516659</td>\n",
       "      <td>0.967331</td>\n",
       "    </tr>\n",
       "    <tr>\n",
       "      <th>activeusers</th>\n",
       "      <td>-0.411842</td>\n",
       "      <td>-0.397565</td>\n",
       "      <td>-0.438463</td>\n",
       "      <td>-0.413038</td>\n",
       "      <td>-0.423358</td>\n",
       "      <td>-0.424996</td>\n",
       "      <td>-0.392061</td>\n",
       "      <td>1.000000</td>\n",
       "      <td>0.382949</td>\n",
       "      <td>-0.362558</td>\n",
       "    </tr>\n",
       "    <tr>\n",
       "      <th>valid_checked</th>\n",
       "      <td>-0.670468</td>\n",
       "      <td>-0.599263</td>\n",
       "      <td>-0.701915</td>\n",
       "      <td>-0.671794</td>\n",
       "      <td>-0.743031</td>\n",
       "      <td>-0.686979</td>\n",
       "      <td>-0.516659</td>\n",
       "      <td>0.382949</td>\n",
       "      <td>1.000000</td>\n",
       "      <td>-0.455482</td>\n",
       "    </tr>\n",
       "    <tr>\n",
       "      <th>checked</th>\n",
       "      <td>0.939049</td>\n",
       "      <td>0.964899</td>\n",
       "      <td>0.911537</td>\n",
       "      <td>0.931735</td>\n",
       "      <td>0.884775</td>\n",
       "      <td>0.924070</td>\n",
       "      <td>0.967331</td>\n",
       "      <td>-0.362558</td>\n",
       "      <td>-0.455482</td>\n",
       "      <td>1.000000</td>\n",
       "    </tr>\n",
       "  </tbody>\n",
       "</table>\n",
       "</div>"
      ],
      "text/plain": [
       "                  total      good     views     edits     users    admins  \\\n",
       "total          1.000000  0.985984  0.931635  0.997832  0.973633  0.983278   \n",
       "good           0.985984  1.000000  0.863017  0.979969  0.924541  0.942922   \n",
       "views          0.931635  0.863017  1.000000  0.942697  0.976244  0.975131   \n",
       "edits          0.997832  0.979969  0.942697  1.000000  0.974565  0.985414   \n",
       "users          0.973633  0.924541  0.976244  0.974565  1.000000  0.992308   \n",
       "admins         0.983278  0.942922  0.975131  0.985414  0.992308  1.000000   \n",
       "images         0.983553  0.972625  0.915717  0.976092  0.951385  0.967750   \n",
       "activeusers   -0.411842 -0.397565 -0.438463 -0.413038 -0.423358 -0.424996   \n",
       "valid_checked -0.670468 -0.599263 -0.701915 -0.671794 -0.743031 -0.686979   \n",
       "checked        0.939049  0.964899  0.911537  0.931735  0.884775  0.924070   \n",
       "\n",
       "                 images  activeusers  valid_checked   checked  \n",
       "total          0.983553    -0.411842      -0.670468  0.939049  \n",
       "good           0.972625    -0.397565      -0.599263  0.964899  \n",
       "views          0.915717    -0.438463      -0.701915  0.911537  \n",
       "edits          0.976092    -0.413038      -0.671794  0.931735  \n",
       "users          0.951385    -0.423358      -0.743031  0.884775  \n",
       "admins         0.967750    -0.424996      -0.686979  0.924070  \n",
       "images         1.000000    -0.392061      -0.516659  0.967331  \n",
       "activeusers   -0.392061     1.000000       0.382949 -0.362558  \n",
       "valid_checked -0.516659     0.382949       1.000000 -0.455482  \n",
       "checked        0.967331    -0.362558      -0.455482  1.000000  "
      ]
     },
     "execution_count": 101,
     "metadata": {},
     "output_type": "execute_result"
    }
   ],
   "source": [
    "data.corr()"
   ]
  },
  {
   "cell_type": "markdown",
   "metadata": {},
   "source": [
    "### Build linear model to predict #active_users"
   ]
  },
  {
   "cell_type": "code",
   "execution_count": 102,
   "metadata": {
    "collapsed": false
   },
   "outputs": [],
   "source": [
    "y = data_tr['activeusers']\n",
    "del data_tr['activeusers']\n",
    "X = data_tr"
   ]
  },
  {
   "cell_type": "code",
   "execution_count": 103,
   "metadata": {
    "collapsed": false
   },
   "outputs": [
    {
     "data": {
      "text/plain": [
       "LinearRegression(copy_X=True, fit_intercept=True, n_jobs=1, normalize=False)"
      ]
     },
     "execution_count": 103,
     "metadata": {},
     "output_type": "execute_result"
    }
   ],
   "source": [
    "lin_pred = linear_model.LinearRegression()\n",
    "lin_pred.fit(X, y)"
   ]
  },
  {
   "cell_type": "code",
   "execution_count": 104,
   "metadata": {
    "collapsed": false
   },
   "outputs": [
    {
     "data": {
      "text/plain": [
       "0.24627153781590339"
      ]
     },
     "execution_count": 104,
     "metadata": {},
     "output_type": "execute_result"
    }
   ],
   "source": [
    "lin_pred.score(X, y)"
   ]
  },
  {
   "cell_type": "code",
   "execution_count": 105,
   "metadata": {
    "collapsed": false
   },
   "outputs": [
    {
     "name": "stderr",
     "output_type": "stream",
     "text": [
      "/usr/local/lib/python2.7/dist-packages/ipykernel/__main__.py:4: FutureWarning: sort(columns=....) is deprecated, use sort_values(by=.....)\n"
     ]
    },
    {
     "data": {
      "text/html": [
       "<div>\n",
       "<table border=\"1\" class=\"dataframe\">\n",
       "  <thead>\n",
       "    <tr style=\"text-align: right;\">\n",
       "      <th></th>\n",
       "      <th>0</th>\n",
       "    </tr>\n",
       "  </thead>\n",
       "  <tbody>\n",
       "    <tr>\n",
       "      <th>checked</th>\n",
       "      <td>0.106197</td>\n",
       "    </tr>\n",
       "    <tr>\n",
       "      <th>valid_checked</th>\n",
       "      <td>0.025737</td>\n",
       "    </tr>\n",
       "    <tr>\n",
       "      <th>users</th>\n",
       "      <td>0.007222</td>\n",
       "    </tr>\n",
       "    <tr>\n",
       "      <th>images</th>\n",
       "      <td>0.006454</td>\n",
       "    </tr>\n",
       "    <tr>\n",
       "      <th>edits</th>\n",
       "      <td>0.002025</td>\n",
       "    </tr>\n",
       "  </tbody>\n",
       "</table>\n",
       "</div>"
      ],
      "text/plain": [
       "                      0\n",
       "checked        0.106197\n",
       "valid_checked  0.025737\n",
       "users          0.007222\n",
       "images         0.006454\n",
       "edits          0.002025"
      ]
     },
     "execution_count": 105,
     "metadata": {},
     "output_type": "execute_result"
    }
   ],
   "source": [
    "coefs = pd.DataFrame(\n",
    "    pred.coef_.reshape(1, -1),\n",
    "    columns=data_tr.columns)\n",
    "coefs.transpose().sort(columns=0, ascending=False).head()"
   ]
  },
  {
   "cell_type": "markdown",
   "metadata": {
    "collapsed": true
   },
   "source": [
    "##  t (Student's) distribiution"
   ]
  },
  {
   "cell_type": "markdown",
   "metadata": {},
   "source": [
    "--------------------------------------\n",
    "**Let's say X was sampled from a normal distribution:**\n",
    "X  ~ ${N(μ, σ2)}$\n",
    "\n",
    "The mean of the samples is:\n",
    "\\begin{equation*}\n",
    "\\bar{X} = \\frac{1}{{n}} \\sum_{i=1}^n X_i\n",
    "\\end{equation*}\n",
    "\n",
    "And the estimated variance:\n",
    "\\begin{equation*}\n",
    "S_n = \\frac{1}{{n - 1}} \\sum_{i=1}^n (X_i - \\bar{X})^2\n",
    "\\end{equation*}\n",
    "\n",
    "Then the following statistics:\n",
    "\\begin{equation*}\n",
    "Z = \\frac{\\bar{X} - \\mu}{{\\sigma / \\sqrt{n}}}\n",
    "\\end{equation*}\n",
    "is ~N(μ, σ2)\n",
    "\n",
    "And the following statistics:\n",
    "\\begin{equation*}\n",
    "t = \\frac{\\bar{X} - \\mu}{{S_n / \\sqrt{n}}}\n",
    "\\end{equation*}\n",
    "has a Student's t-distribution with n − 1 degrees of freedom ~ $t(df=n-1)$"
   ]
  },
  {
   "cell_type": "markdown",
   "metadata": {},
   "source": [
    "------------------\n",
    "**t-ditribution can be used to find the propbabilty that X was sampled from mean μ**\n",
    "\n",
    "if we guess that $\\hat{\\mu}$ is a good representation of the real ${\\mu}$\n",
    "\n",
    "then:\n",
    "\n",
    "$t_0 = \\frac{\\bar{X} - \\hat{\\mu}}{{S_n / \\sqrt{n}}}$ ~ $t_{n-1}$\n",
    "--\n",
    "\n",
    "let's choose 95% certainty, let T be the value where $P(t_{n-1} < T) = 0.95$\n",
    "\n",
    "then if:\n",
    "\n",
    "$|{t_0}| > T$\n",
    "\n",
    "we can reject the null hypothesis $H_0: \\hat{\\mu} = {\\mu}$\n"
   ]
  },
  {
   "cell_type": "markdown",
   "metadata": {},
   "source": [
    "------------------\n",
    "**t-ditribution can be used to find the confidence intervals for X**\n",
    "\n",
    "$t = \\frac{\\bar{X} - \\mu}{{Sn / \\sqrt{n}}}$ ~ $t_{n-1}$\n",
    "\n",
    "$P(t_{n-1} < T) = 0.95 \\longleftrightarrow T := t_{.95, n-1}$\n",
    "\n",
    "Then $X = \\mu \\pm T * \\frac{Sn}{{\\sqrt{n}}}$\n",
    "\n",
    "where : $se(X) = \\frac{Sn}{{\\sqrt{n}}}$, is the estimated standard error of X\n"
   ]
  },
  {
   "cell_type": "code",
   "execution_count": 106,
   "metadata": {
    "collapsed": false
   },
   "outputs": [],
   "source": [
    "def t_stat(perc, df):\n",
    "    alpha = 1 - perc\n",
    "    return stats.t.ppf(1 - alpha/2, df=df)"
   ]
  },
  {
   "cell_type": "code",
   "execution_count": 107,
   "metadata": {
    "collapsed": false
   },
   "outputs": [
    {
     "data": {
      "text/plain": [
       "1.9839715184496334"
      ]
     },
     "execution_count": 107,
     "metadata": {},
     "output_type": "execute_result"
    }
   ],
   "source": [
    "t_stat(.95, df=100)"
   ]
  },
  {
   "cell_type": "code",
   "execution_count": 188,
   "metadata": {
    "collapsed": true
   },
   "outputs": [],
   "source": [
    "def t_test(t_val, df):\n",
    "    return (1 - stats.t.cdf(abs(t_val), df=df)) * 2"
   ]
  },
  {
   "cell_type": "code",
   "execution_count": 192,
   "metadata": {
    "collapsed": false
   },
   "outputs": [
    {
     "data": {
      "text/plain": [
       "0.05011015368624272"
      ]
     },
     "execution_count": 192,
     "metadata": {},
     "output_type": "execute_result"
    }
   ],
   "source": [
    "t_test(1.983, df=100)"
   ]
  },
  {
   "cell_type": "markdown",
   "metadata": {},
   "source": [
    "## Simple linear regresson"
   ]
  },
  {
   "cell_type": "markdown",
   "metadata": {},
   "source": [
    "--------------------------\n",
    "$y_i = \\beta_0 + \\beta_1 * X_i + \\epsilon$\n",
    "\n",
    "Base assumption is always that $\\epsilon \\tilde{} N(0, \\sigma^2)$\n",
    "\n",
    "Therefore, $yi \\tilde{} N(\\beta_0 + \\beta_1 * X_i, \\sigma^2)$"
   ]
  },
  {
   "cell_type": "markdown",
   "metadata": {},
   "source": [
    "--------------------------\n",
    "It can be shown that, where:\n",
    "\n",
    "$S_{xx} = \\sum_{i=1}^n{(X_i - \\bar{X})}^2$\n",
    "\n",
    "$S_{xy} = \\sum_{i=1}^n{y_i*(X_i - \\bar{X})}$\n"
   ]
  },
  {
   "cell_type": "markdown",
   "metadata": {},
   "source": [
    "--------------------------\n",
    "Then: \n",
    "\n",
    "$\\hat{\\beta_1} = \\frac{S_{xx}}{{S_{xy}}}$\n",
    "\n",
    "$\\hat{\\beta_0} = \\bar{y} - \\hat{\\beta_1}*\\bar{X}$\n",
    "\n",
    "$\\hat{\\beta_1} \\tilde{} N(\\beta_1, \\frac{\\sigma^2}{{S_{xx}}})$\n",
    "--"
   ]
  },
  {
   "cell_type": "markdown",
   "metadata": {},
   "source": [
    "---------------\n",
    "Therefore:\n",
    "\n",
    "$Z_1 = \\frac{\\hat{\\beta_1} - \\beta_1}{{\\frac{\\sigma}{\\sqrt{{S_{xx}}}}}} \\tilde{} N(0, 1)$\n",
    "--\n",
    "\n",
    "$t_1 = \\frac{\\hat{\\beta_1} - \\beta_1}{{\\frac{\\hat{\\sigma}}{\\sqrt{{S_{xx}}}}}} \\tilde{} t_{n-2}$\n",
    "--\n",
    "\n",
    "where $\\hat{\\sigma}^2 = se(\\epsilon)^2 = \\frac{SS_{res}}{{n-2}}$\n",
    "\n",
    "where $SS_{res} = \\sum_{i=1}^n{e_i^2} = \\sum_{i=1}^n{(y_i - \\hat{y}_i)^2}$"
   ]
  },
  {
   "cell_type": "markdown",
   "metadata": {},
   "source": [
    "### Rejecting the Null Hypothesis"
   ]
  },
  {
   "cell_type": "markdown",
   "metadata": {},
   "source": [
    "Let's first test the null hyphotesis $H_0: \\beta_1 = 0$\n",
    "\n",
    "Meaning - there is no linear connection between the X and y\n",
    "\n",
    "$t_1 =  \\frac{\\hat{\\beta_1} - 0}{{\\frac{\\hat{\\sigma}}{\\sqrt{{S_{xx}}}}}}$\n",
    "--\n",
    "\n",
    "Example of a possible result (${\\beta_1} = 0.265, {\\frac{\\hat{\\sigma}}{\\sqrt{{S_{xx}}}}} = 0.0026$):\n",
    "\n",
    "$t_1 = \\frac{0.265 - 0}{{0.0026}} = 102.18 \\gg t_{.95, n-2} = 1.96$\n",
    "--\n",
    "\n",
    "we can easily reject $H_0$"
   ]
  },
  {
   "cell_type": "markdown",
   "metadata": {},
   "source": [
    "## Multiple Linear Regresssion Case"
   ]
  },
  {
   "cell_type": "markdown",
   "metadata": {},
   "source": [
    "$y_i = \\beta_0 + \\sum_{j=1}^k{\\beta_jX_i} + \\epsilon_i$\n",
    "\n",
    "$p = k + 1$, is the ammount of variables\n",
    "\n",
    "$\\vec{y} = \\textbf{X}\\cdot\\vec{\\beta}$\n",
    "\n",
    "$LS(\\beta) = \\sum_{i=1}^n{\\epsilon_i} = \\vec{\\epsilon}'\\cdot\\vec{\\epsilon} = (y - \\textbf{X}\\cdot\\vec{\\beta})'\\cdot(y - \\textbf{X}\\cdot\\vec{\\beta})$\n",
    "\n",
    "$\\frac{\\partial{LS(\\beta)}}{{\\partial{\\beta}}} = -2\\textbf{X'}y + 2\\textbf{X'X}\\beta$\n",
    "\n",
    "$\\Downarrow$\n",
    "\n",
    "$\\hat{\\beta} = \\textbf{(X'X)}^{-1}\\textbf{X'}y$\n",
    "\n",
    "$\\hat{y} = \\textbf{X}\\hat{\\beta} = \\textbf{X}\\textbf{(X'X)}^{-1}\\textbf{X'}y := \\textbf{H}y$"
   ]
  },
  {
   "cell_type": "markdown",
   "metadata": {},
   "source": [
    "-----------------------------\n",
    "Again, base assumption is always that $\\epsilon \\tilde{} N(0, \\sigma^2)$\n",
    "\n",
    "**Then it can be shown that** $E(\\hat{\\beta}) = \\beta$\n",
    "\n",
    "$Var(\\hat{\\beta}) = Var(\\textbf{(X'X)}^{-1}\\textbf{X'}y) = \\textbf{(X'X)}^{-1}\\textbf{X'}\\cdot Var(y) \\cdot[\\textbf{(X'X)}^{-1}\\textbf{X'}]' = \\sigma^2\\cdot\\textbf{(X'X)}^{-1}$ \n",
    "\n",
    "So before we saw: $\\hat{\\beta_1} \\tilde{} N(\\beta_1, \\frac{\\sigma^2}{{S_{xx}}})$\n",
    "\n",
    "And now: $\\hat{\\beta} \\tilde{} N(\\beta, \\sigma^2\\cdot\\textbf{(X'X)}^{-1})$\n"
   ]
  },
  {
   "cell_type": "markdown",
   "metadata": {},
   "source": [
    "-----------\n",
    "Again, the estimation of the real $\\sigma$:\n",
    "\n",
    "$\\hat{\\sigma}^2 = se(\\epsilon)^2 = \\frac{SS_{res}}{{n-p}}$\n",
    "\n",
    "where $SS_{res} = \\sum_{i=1}^n{e_i^2} = \\sum_{i=1}^n{(y_i - \\hat{y}_i)^2} = (y - \\textbf{X}\\hat{\\beta})'(y - \\textbf{X}\\hat{\\beta}) = yy' - \\hat{\\beta}'\\textbf{X}'y$"
   ]
  },
  {
   "cell_type": "markdown",
   "metadata": {},
   "source": [
    "### Computing beta by definition"
   ]
  },
  {
   "cell_type": "code",
   "execution_count": 108,
   "metadata": {
    "collapsed": false
   },
   "outputs": [],
   "source": [
    "XtX = X.transpose().dot(X)\n",
    "XtX_inv = pd.DataFrame(np.linalg.pinv(XtX.values), XtX.columns, XtX.index)"
   ]
  },
  {
   "cell_type": "code",
   "execution_count": 110,
   "metadata": {
    "collapsed": false
   },
   "outputs": [
    {
     "data": {
      "text/plain": [
       "((9, 9), (3359, 9))"
      ]
     },
     "execution_count": 110,
     "metadata": {},
     "output_type": "execute_result"
    }
   ],
   "source": [
    "XtX.shape, X.shape"
   ]
  },
  {
   "cell_type": "code",
   "execution_count": 111,
   "metadata": {
    "collapsed": false
   },
   "outputs": [
    {
     "data": {
      "text/html": [
       "<div>\n",
       "<table border=\"1\" class=\"dataframe\">\n",
       "  <thead>\n",
       "    <tr style=\"text-align: right;\">\n",
       "      <th></th>\n",
       "      <th>total</th>\n",
       "      <th>good</th>\n",
       "      <th>views</th>\n",
       "      <th>edits</th>\n",
       "      <th>users</th>\n",
       "      <th>admins</th>\n",
       "      <th>images</th>\n",
       "      <th>valid_checked</th>\n",
       "      <th>checked</th>\n",
       "    </tr>\n",
       "  </thead>\n",
       "  <tbody>\n",
       "    <tr>\n",
       "      <th>total</th>\n",
       "      <td>7.184819e+12</td>\n",
       "      <td>1.072052e+12</td>\n",
       "      <td>1.816372e+16</td>\n",
       "      <td>4.135417e+13</td>\n",
       "      <td>1.483854e+12</td>\n",
       "      <td>8.495307e+09</td>\n",
       "      <td>6.288387e+11</td>\n",
       "      <td>6.258201e+10</td>\n",
       "      <td>1.208970e+11</td>\n",
       "    </tr>\n",
       "    <tr>\n",
       "      <th>good</th>\n",
       "      <td>1.072052e+12</td>\n",
       "      <td>1.616991e+11</td>\n",
       "      <td>2.625935e+15</td>\n",
       "      <td>6.156787e+12</td>\n",
       "      <td>2.181015e+11</td>\n",
       "      <td>1.259805e+09</td>\n",
       "      <td>9.419167e+10</td>\n",
       "      <td>1.001833e+10</td>\n",
       "      <td>1.858136e+10</td>\n",
       "    </tr>\n",
       "    <tr>\n",
       "      <th>views</th>\n",
       "      <td>1.816372e+16</td>\n",
       "      <td>2.625935e+15</td>\n",
       "      <td>5.058333e+19</td>\n",
       "      <td>1.053763e+17</td>\n",
       "      <td>3.916241e+15</td>\n",
       "      <td>2.195284e+13</td>\n",
       "      <td>1.576231e+15</td>\n",
       "      <td>1.268960e+14</td>\n",
       "      <td>2.861488e+14</td>\n",
       "    </tr>\n",
       "    <tr>\n",
       "      <th>edits</th>\n",
       "      <td>4.135417e+13</td>\n",
       "      <td>6.156787e+12</td>\n",
       "      <td>1.053763e+17</td>\n",
       "      <td>2.383398e+14</td>\n",
       "      <td>8.561636e+12</td>\n",
       "      <td>4.895743e+10</td>\n",
       "      <td>3.612736e+12</td>\n",
       "      <td>3.548334e+11</td>\n",
       "      <td>6.907760e+11</td>\n",
       "    </tr>\n",
       "    <tr>\n",
       "      <th>users</th>\n",
       "      <td>1.483854e+12</td>\n",
       "      <td>2.181015e+11</td>\n",
       "      <td>3.916241e+15</td>\n",
       "      <td>8.561636e+12</td>\n",
       "      <td>3.137717e+11</td>\n",
       "      <td>1.772968e+09</td>\n",
       "      <td>1.291966e+11</td>\n",
       "      <td>1.164974e+10</td>\n",
       "      <td>2.422927e+10</td>\n",
       "    </tr>\n",
       "  </tbody>\n",
       "</table>\n",
       "</div>"
      ],
      "text/plain": [
       "              total          good         views         edits         users  \\\n",
       "total  7.184819e+12  1.072052e+12  1.816372e+16  4.135417e+13  1.483854e+12   \n",
       "good   1.072052e+12  1.616991e+11  2.625935e+15  6.156787e+12  2.181015e+11   \n",
       "views  1.816372e+16  2.625935e+15  5.058333e+19  1.053763e+17  3.916241e+15   \n",
       "edits  4.135417e+13  6.156787e+12  1.053763e+17  2.383398e+14  8.561636e+12   \n",
       "users  1.483854e+12  2.181015e+11  3.916241e+15  8.561636e+12  3.137717e+11   \n",
       "\n",
       "             admins        images  valid_checked       checked  \n",
       "total  8.495307e+09  6.288387e+11   6.258201e+10  1.208970e+11  \n",
       "good   1.259805e+09  9.419167e+10   1.001833e+10  1.858136e+10  \n",
       "views  2.195284e+13  1.576231e+15   1.268960e+14  2.861488e+14  \n",
       "edits  4.895743e+10  3.612736e+12   3.548334e+11  6.907760e+11  \n",
       "users  1.772968e+09  1.291966e+11   1.164974e+10  2.422927e+10  "
      ]
     },
     "execution_count": 111,
     "metadata": {},
     "output_type": "execute_result"
    }
   ],
   "source": [
    "XtX.head()"
   ]
  },
  {
   "cell_type": "code",
   "execution_count": 112,
   "metadata": {
    "collapsed": false
   },
   "outputs": [],
   "source": [
    "beta_hat = XtX_inv.dot(X.transpose()).dot(y)"
   ]
  },
  {
   "cell_type": "code",
   "execution_count": 115,
   "metadata": {
    "collapsed": false
   },
   "outputs": [
    {
     "name": "stderr",
     "output_type": "stream",
     "text": [
      "/usr/local/lib/python2.7/dist-packages/ipykernel/__main__.py:1: FutureWarning: sort(columns=....) is deprecated, use sort_values(by=.....)\n",
      "  if __name__ == '__main__':\n"
     ]
    },
    {
     "data": {
      "text/html": [
       "<div>\n",
       "<table border=\"1\" class=\"dataframe\">\n",
       "  <thead>\n",
       "    <tr style=\"text-align: right;\">\n",
       "      <th></th>\n",
       "      <th>0</th>\n",
       "    </tr>\n",
       "  </thead>\n",
       "  <tbody>\n",
       "    <tr>\n",
       "      <th>checked</th>\n",
       "      <td>0.109331</td>\n",
       "    </tr>\n",
       "    <tr>\n",
       "      <th>valid_checked</th>\n",
       "      <td>0.023983</td>\n",
       "    </tr>\n",
       "    <tr>\n",
       "      <th>users</th>\n",
       "      <td>0.006660</td>\n",
       "    </tr>\n",
       "    <tr>\n",
       "      <th>images</th>\n",
       "      <td>0.006296</td>\n",
       "    </tr>\n",
       "    <tr>\n",
       "      <th>edits</th>\n",
       "      <td>0.002064</td>\n",
       "    </tr>\n",
       "  </tbody>\n",
       "</table>\n",
       "</div>"
      ],
      "text/plain": [
       "                      0\n",
       "checked        0.109331\n",
       "valid_checked  0.023983\n",
       "users          0.006660\n",
       "images         0.006296\n",
       "edits          0.002064"
      ]
     },
     "execution_count": 115,
     "metadata": {},
     "output_type": "execute_result"
    }
   ],
   "source": [
    "pd.DataFrame(beta_hat).sort(columns=0, ascending=False).head()"
   ]
  },
  {
   "cell_type": "markdown",
   "metadata": {},
   "source": [
    "Indeed identical to what we saw from sklearn lin reg"
   ]
  },
  {
   "cell_type": "markdown",
   "metadata": {},
   "source": [
    "### Estimate $\\hat{\\sigma}^2$"
   ]
  },
  {
   "cell_type": "markdown",
   "metadata": {},
   "source": [
    "Reminder:\n",
    "\n",
    "$\\hat{\\sigma}^2 = se(\\epsilon)^2 = \\frac{SS_{res}}{{n-p}}$\n",
    "\n",
    "where $SS_{res} = \\sum_{i=1}^n{e_i^2} = \\sum_{i=1}^n{(y_i - \\hat{y}_i)^2} = (y - \\textbf{X}\\hat{\\beta})'(y - \\textbf{X}\\hat{\\beta}) = yy' - \\hat{\\beta}'\\textbf{X}'y$\n",
    "\n",
    "-----"
   ]
  },
  {
   "cell_type": "code",
   "execution_count": 119,
   "metadata": {
    "collapsed": false
   },
   "outputs": [
    {
     "data": {
      "text/plain": [
       "(9, 10)"
      ]
     },
     "execution_count": 119,
     "metadata": {},
     "output_type": "execute_result"
    }
   ],
   "source": [
    "n = X.shape[0]  # num of samples\n",
    "k = X.shape[1]  # num of columns (features)\n",
    "p = k + 1 \n",
    "k, p"
   ]
  },
  {
   "cell_type": "code",
   "execution_count": 120,
   "metadata": {
    "collapsed": false
   },
   "outputs": [
    {
     "data": {
      "text/plain": [
       "4857312.3821723461"
      ]
     },
     "execution_count": 120,
     "metadata": {},
     "output_type": "execute_result"
    }
   ],
   "source": [
    "SSres = y.dot(y.transpose()) - beta_hat.transpose().dot(X.transpose()).dot(y)\n",
    "SSres"
   ]
  },
  {
   "cell_type": "code",
   "execution_count": 121,
   "metadata": {
    "collapsed": false
   },
   "outputs": [
    {
     "data": {
      "text/plain": [
       "38.083814712020541"
      ]
     },
     "execution_count": 121,
     "metadata": {},
     "output_type": "execute_result"
    }
   ],
   "source": [
    "sigma_hat = np.sqrt(SSres / (n - p))\n",
    "sigma_hat"
   ]
  },
  {
   "cell_type": "markdown",
   "metadata": {},
   "source": [
    "### Coef Confidence Intervals"
   ]
  },
  {
   "cell_type": "markdown",
   "metadata": {},
   "source": [
    "Reminder:\n",
    "\n",
    "$\\hat{\\beta} \\tilde{} N(\\beta, \\sigma^2\\cdot\\textbf{(X'X)}^{-1})$\n",
    "\n",
    "Where $C_{ij}$ is the covariance matrix: $C_{ij} = {\\textbf{(X'X)}^{-1}}_{ij}$\n",
    "\n",
    "Meaning each coef $\\hat{\\beta_i} \\tilde{} N(\\beta_i, \\sigma^2\\cdot C_{ii})$\n",
    "\n",
    "$\\Downarrow$\n",
    "\n",
    "$t_i = \\frac{\\hat{\\beta_i} - \\beta_i}{{\\hat{\\sigma}}{\\sqrt{C_{ii}}}} \\tilde{} t_{n-p}$\n",
    "---\n",
    "\n",
    "\n",
    "$\\Downarrow$\n",
    "\n",
    "$\\hat{\\beta_i} = \\hat{\\beta_i} \\pm t_{.95, n-p}\\cdot\\hat{\\sigma}\\cdot\\sqrt{C_{ii}}$\n",
    "---\n"
   ]
  },
  {
   "cell_type": "code",
   "execution_count": 150,
   "metadata": {
    "collapsed": false
   },
   "outputs": [
    {
     "data": {
      "text/html": [
       "<div>\n",
       "<table border=\"1\" class=\"dataframe\">\n",
       "  <thead>\n",
       "    <tr style=\"text-align: right;\">\n",
       "      <th></th>\n",
       "      <th>sqrtCii</th>\n",
       "    </tr>\n",
       "  </thead>\n",
       "  <tbody>\n",
       "    <tr>\n",
       "      <th>total</th>\n",
       "      <td>4.872997e-05</td>\n",
       "    </tr>\n",
       "    <tr>\n",
       "      <th>good</th>\n",
       "      <td>1.530905e-04</td>\n",
       "    </tr>\n",
       "    <tr>\n",
       "      <th>views</th>\n",
       "      <td>3.395161e-09</td>\n",
       "    </tr>\n",
       "    <tr>\n",
       "      <th>edits</th>\n",
       "      <td>5.960729e-06</td>\n",
       "    </tr>\n",
       "    <tr>\n",
       "      <th>users</th>\n",
       "      <td>5.548149e-05</td>\n",
       "    </tr>\n",
       "    <tr>\n",
       "      <th>admins</th>\n",
       "      <td>5.920767e-07</td>\n",
       "    </tr>\n",
       "    <tr>\n",
       "      <th>images</th>\n",
       "      <td>1.171170e-04</td>\n",
       "    </tr>\n",
       "    <tr>\n",
       "      <th>valid_checked</th>\n",
       "      <td>1.995334e-04</td>\n",
       "    </tr>\n",
       "    <tr>\n",
       "      <th>checked</th>\n",
       "      <td>1.476976e-04</td>\n",
       "    </tr>\n",
       "  </tbody>\n",
       "</table>\n",
       "</div>"
      ],
      "text/plain": [
       "                    sqrtCii\n",
       "total          4.872997e-05\n",
       "good           1.530905e-04\n",
       "views          3.395161e-09\n",
       "edits          5.960729e-06\n",
       "users          5.548149e-05\n",
       "admins         5.920767e-07\n",
       "images         1.171170e-04\n",
       "valid_checked  1.995334e-04\n",
       "checked        1.476976e-04"
      ]
     },
     "execution_count": 150,
     "metadata": {},
     "output_type": "execute_result"
    }
   ],
   "source": [
    "C = XtX_inv\n",
    "\n",
    "sqrtCii = pd.DataFrame(np.diag(np.sqrt(C)), index=[C.columns], columns=['sqrtCii'])\n",
    "sqrtCii"
   ]
  },
  {
   "cell_type": "code",
   "execution_count": 157,
   "metadata": {
    "collapsed": false
   },
   "outputs": [
    {
     "data": {
      "text/plain": [
       "total            -2.116973\n",
       "good             -6.507829\n",
       "views           -14.227834\n",
       "edits             9.094071\n",
       "users             3.151778\n",
       "admins           27.033301\n",
       "images            1.411471\n",
       "valid_checked     3.156065\n",
       "checked          19.436978\n",
       "dtype: float64"
      ]
     },
     "execution_count": 157,
     "metadata": {},
     "output_type": "execute_result"
    }
   ],
   "source": [
    "t = (beta_hat - 0).divide(sigma_hat * sqrtCii['sqrtCii'])\n",
    "t"
   ]
  },
  {
   "cell_type": "code",
   "execution_count": 193,
   "metadata": {
    "collapsed": false
   },
   "outputs": [
    {
     "data": {
      "text/plain": [
       "total            3.433566e-02\n",
       "good             8.761458e-11\n",
       "views            0.000000e+00\n",
       "edits            0.000000e+00\n",
       "users            1.637129e-03\n",
       "admins           0.000000e+00\n",
       "images           1.581987e-01\n",
       "valid_checked    1.613325e-03\n",
       "checked          0.000000e+00\n",
       "dtype: float64"
      ]
     },
     "execution_count": 193,
     "metadata": {},
     "output_type": "execute_result"
    }
   ],
   "source": [
    "p_values = t.apply(lambda t_val: t_test(t_val, df=(n - p)))\n",
    "p_values"
   ]
  }
 ],
 "metadata": {
  "kernelspec": {
   "display_name": "Python 2",
   "language": "python",
   "name": "python2"
  },
  "language_info": {
   "codemirror_mode": {
    "name": "ipython",
    "version": 2
   },
   "file_extension": ".py",
   "mimetype": "text/x-python",
   "name": "python",
   "nbconvert_exporter": "python",
   "pygments_lexer": "ipython2",
   "version": "2.7.6"
  }
 },
 "nbformat": 4,
 "nbformat_minor": 0
}
